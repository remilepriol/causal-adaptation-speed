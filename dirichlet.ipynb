{
 "cells": [
  {
   "cell_type": "code",
   "execution_count": 1,
   "metadata": {
    "ExecuteTime": {
     "end_time": "2019-06-27T22:25:22.891701Z",
     "start_time": "2019-06-27T22:25:22.889254Z"
    }
   },
   "outputs": [],
   "source": [
    "import numpy as np"
   ]
  },
  {
   "cell_type": "code",
   "execution_count": 41,
   "metadata": {
    "ExecuteTime": {
     "end_time": "2019-06-27T22:34:51.558322Z",
     "start_time": "2019-06-27T22:34:51.554350Z"
    }
   },
   "outputs": [],
   "source": [
    "k =10\n",
    "ma = np.random.dirichlet(np.ones(k), size=1)\n",
    "cba = np.random.dirichlet(np.ones(k), size=k)"
   ]
  },
  {
   "cell_type": "code",
   "execution_count": 42,
   "metadata": {
    "ExecuteTime": {
     "end_time": "2019-06-27T22:34:51.693177Z",
     "start_time": "2019-06-27T22:34:51.689697Z"
    }
   },
   "outputs": [],
   "source": [
    "mb = np.sum(cba * ma[:, np.newaxis], axis=0)"
   ]
  },
  {
   "cell_type": "code",
   "execution_count": 43,
   "metadata": {
    "ExecuteTime": {
     "end_time": "2019-06-27T22:34:51.804391Z",
     "start_time": "2019-06-27T22:34:51.801243Z"
    }
   },
   "outputs": [],
   "source": [
    "def entropy(x):\n",
    "    return -np.sum(x * np.log(x)) - np.log(x.shape[0])"
   ]
  },
  {
   "cell_type": "code",
   "execution_count": 44,
   "metadata": {
    "ExecuteTime": {
     "end_time": "2019-06-27T22:34:52.180176Z",
     "start_time": "2019-06-27T22:34:52.176851Z"
    }
   },
   "outputs": [
    {
     "name": "stdout",
     "output_type": "stream",
     "text": [
      "2.058745151430875 1.4923049828729162 -4.440892098500626e-16\n"
     ]
    }
   ],
   "source": [
    "print(entropy(ma), entropy(mb), entropy(np.ones(k)/k))"
   ]
  },
  {
   "cell_type": "code",
   "execution_count": null,
   "metadata": {},
   "outputs": [],
   "source": []
  }
 ],
 "metadata": {
  "kernelspec": {
   "display_name": "pytorch 3.7",
   "language": "python",
   "name": "torch"
  },
  "language_info": {
   "codemirror_mode": {
    "name": "ipython",
    "version": 3
   },
   "file_extension": ".py",
   "mimetype": "text/x-python",
   "name": "python",
   "nbconvert_exporter": "python",
   "pygments_lexer": "ipython3",
   "version": "3.7.1"
  },
  "varInspector": {
   "cols": {
    "lenName": 16,
    "lenType": 16,
    "lenVar": 40
   },
   "kernels_config": {
    "python": {
     "delete_cmd_postfix": "",
     "delete_cmd_prefix": "del ",
     "library": "var_list.py",
     "varRefreshCmd": "print(var_dic_list())"
    },
    "r": {
     "delete_cmd_postfix": ") ",
     "delete_cmd_prefix": "rm(",
     "library": "var_list.r",
     "varRefreshCmd": "cat(var_dic_list()) "
    }
   },
   "types_to_exclude": [
    "module",
    "function",
    "builtin_function_or_method",
    "instance",
    "_Feature"
   ],
   "window_display": false
  }
 },
 "nbformat": 4,
 "nbformat_minor": 2
}
