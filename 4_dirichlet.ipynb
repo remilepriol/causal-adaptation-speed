{
 "cells": [
  {
   "cell_type": "code",
   "execution_count": 54,
   "metadata": {
    "ExecuteTime": {
     "end_time": "2019-06-27T22:25:22.891701Z",
     "start_time": "2019-06-27T22:25:22.889254Z"
    }
   },
   "outputs": [
    {
     "name": "stdout",
     "output_type": "stream",
     "text": [
      "The autoreload extension is already loaded. To reload it, use:\n",
      "  %reload_ext autoreload\n"
     ]
    }
   ],
   "source": [
    "import numpy as np\n",
    "np.set_printoptions(precision=1)\n",
    "%load_ext autoreload\n",
    "%autoreload 2"
   ]
  },
  {
   "cell_type": "code",
   "execution_count": 55,
   "metadata": {
    "ExecuteTime": {
     "end_time": "2019-06-27T22:34:51.558322Z",
     "start_time": "2019-06-27T22:34:51.554350Z"
    }
   },
   "outputs": [],
   "source": [
    "k =10\n",
    "ma = np.random.dirichlet(np.ones(k), size=1)\n",
    "cba = np.random.dirichlet(np.ones(k), size=k)"
   ]
  },
  {
   "cell_type": "code",
   "execution_count": 56,
   "metadata": {
    "ExecuteTime": {
     "end_time": "2019-06-27T22:34:51.693177Z",
     "start_time": "2019-06-27T22:34:51.689697Z"
    }
   },
   "outputs": [],
   "source": [
    "mb = np.sum(cba * ma[:, np.newaxis], axis=0)"
   ]
  },
  {
   "cell_type": "code",
   "execution_count": 57,
   "metadata": {
    "ExecuteTime": {
     "end_time": "2019-06-27T22:34:51.804391Z",
     "start_time": "2019-06-27T22:34:51.801243Z"
    }
   },
   "outputs": [],
   "source": [
    "def entropy(x):\n",
    "    return -np.sum(x * np.log(x)) - np.log(x.shape[0])"
   ]
  },
  {
   "cell_type": "code",
   "execution_count": 58,
   "metadata": {
    "ExecuteTime": {
     "end_time": "2019-06-27T22:34:52.180176Z",
     "start_time": "2019-06-27T22:34:52.176851Z"
    }
   },
   "outputs": [
    {
     "name": "stdout",
     "output_type": "stream",
     "text": [
      "1.7467355755 1.717802664 -4.4408920985e-16\n"
     ]
    }
   ],
   "source": [
    "print(entropy(ma), entropy(mb), entropy(np.ones(k)/k))"
   ]
  },
  {
   "cell_type": "markdown",
   "metadata": {},
   "source": [
    "# Distances "
   ]
  },
  {
   "cell_type": "code",
   "execution_count": 63,
   "metadata": {},
   "outputs": [],
   "source": [
    "import categorical_distance as categ"
   ]
  },
  {
   "cell_type": "code",
   "execution_count": 204,
   "metadata": {},
   "outputs": [],
   "source": [
    "k =100\n",
    "causal = categ.sample_joint(k=k, n=5, concentration=1, symmetric=True)\n",
    "anti = causal.reverse()\n",
    "intcausal = causal.intervention(on='effect',concentration=1,fromjoint=False)\n",
    "intanti = intcausal.reverse()"
   ]
  },
  {
   "cell_type": "code",
   "execution_count": 205,
   "metadata": {},
   "outputs": [
    {
     "name": "stdout",
     "output_type": "stream",
     "text": [
      "[-17231.9 -11897.  -14001.7 -13912.9 -13771.9]\n",
      "0\n"
     ]
    }
   ],
   "source": [
    "dicausal = causal.scoredist(intcausal)\n",
    "dianti = anti.scoredist(intanti)\n",
    "delta = dianti - dicausal \n",
    "print(delta) # the anticausal model is advantaged\n",
    "print((delta>0).sum())"
   ]
  },
  {
   "cell_type": "markdown",
   "metadata": {},
   "source": [
    " Now Let's look at the contribution of each term"
   ]
  },
  {
   "cell_type": "code",
   "execution_count": 206,
   "metadata": {},
   "outputs": [
    {
     "name": "stdout",
     "output_type": "stream",
     "text": [
      "[ 169.7  119.7  140.5  144.2  139.6]\n",
      "[ 174.6  120.9  141.9  141.1  139.7]\n",
      "[ 0.6  0.7  0.5  0.5  0.6] alpha\n"
     ]
    }
   ],
   "source": [
    "# marginal difference\n",
    "dimargi = (np.sum((anti.sa - intanti.sa)**2, axis=1))\n",
    "# causal mean deviation\n",
    "dicaumean = (np.sum((intanti.sa - np.mean(causal.sba, axis=1))**2,axis=1))\n",
    "# anticausal mean deviation\n",
    "dianmean = (np.sum((causal.sa - np.mean(anti.sba, axis=1))**2, axis=1))\n",
    "print(dimargi)\n",
    "print(dicaumean)\n",
    "print(dianmean, 'alpha')"
   ]
  },
  {
   "cell_type": "code",
   "execution_count": 207,
   "metadata": {},
   "outputs": [
    {
     "name": "stdout",
     "output_type": "stream",
     "text": [
      "difference  -14163.1047877\n",
      "estimate    -14163.1047877\n"
     ]
    }
   ],
   "source": [
    "estimate = dimargi - k*(dicaumean - dianmean) # oooh sign error\n",
    "print('difference ', delta.mean())\n",
    "print('estimate   ', estimate.mean())"
   ]
  },
  {
   "cell_type": "markdown",
   "metadata": {},
   "source": [
    "# variance of logsumexp"
   ]
  },
  {
   "cell_type": "code",
   "execution_count": 196,
   "metadata": {},
   "outputs": [],
   "source": [
    "ss = np.random.randn(99,100)"
   ]
  },
  {
   "cell_type": "code",
   "execution_count": 197,
   "metadata": {},
   "outputs": [],
   "source": [
    "lge = categ.logsumexp(ss)"
   ]
  },
  {
   "cell_type": "code",
   "execution_count": 198,
   "metadata": {},
   "outputs": [
    {
     "data": {
      "text/plain": [
       "0.017512454027028036"
      ]
     },
     "execution_count": 198,
     "metadata": {},
     "output_type": "execute_result"
    }
   ],
   "source": [
    "np.var(lge)"
   ]
  },
  {
   "cell_type": "code",
   "execution_count": 199,
   "metadata": {},
   "outputs": [
    {
     "data": {
      "text/plain": [
       "0.24195816381631272"
      ]
     },
     "execution_count": 199,
     "metadata": {},
     "output_type": "execute_result"
    }
   ],
   "source": [
    "np.var(np.amax(ss,axis=0))"
   ]
  },
  {
   "cell_type": "code",
   "execution_count": 200,
   "metadata": {},
   "outputs": [
    {
     "data": {
      "text/plain": [
       "0.010927555382498953"
      ]
     },
     "execution_count": 200,
     "metadata": {},
     "output_type": "execute_result"
    }
   ],
   "source": [
    "np.var(np.mean(ss, axis=0))"
   ]
  },
  {
   "cell_type": "code",
   "execution_count": 201,
   "metadata": {},
   "outputs": [
    {
     "data": {
      "text/plain": [
       "0.8400310407532311"
      ]
     },
     "execution_count": 201,
     "metadata": {},
     "output_type": "execute_result"
    }
   ],
   "source": [
    "np.var(ss[0])"
   ]
  },
  {
   "cell_type": "code",
   "execution_count": 202,
   "metadata": {},
   "outputs": [
    {
     "data": {
      "text/plain": [
       "0.8466488010108999"
      ]
     },
     "execution_count": 202,
     "metadata": {},
     "output_type": "execute_result"
    }
   ],
   "source": [
    "np.var(ss[0] - np.mean(ss[1:],axis=0))"
   ]
  },
  {
   "cell_type": "code",
   "execution_count": 211,
   "metadata": {},
   "outputs": [
    {
     "name": "stdout",
     "output_type": "stream",
     "text": [
      "[-0.  -0.1  0.  -0.1  0.  -0.1 -0.1 -0.  -0.2 -0.1  0.1 -0.2 -0.3 -0.   0.\n",
      " -0.1  0.  -0.1 -0.1 -0.1  0.   0.   0.1 -0.1  0.  -0.   0.  -0.1  0.1 -0.\n",
      " -0.1 -0.   0.2 -0.   0.1  0.2 -0.2 -0.   0.   0.1  0.1  0.   0.1 -0.   0.3\n",
      " -0.1 -0.   0.1  0.2  0.   0.1  0.1  0.2  0.  -0.1  0.1 -0.1  0.1 -0.3  0.\n",
      "  0.2 -0.1 -0.1  0.2  0.1 -0.   0.1  0.1  0.1  0.1  0.  -0.  -0.2 -0.1  0.1\n",
      "  0.  -0.1 -0.  -0.  -0.1 -0.1 -0.1 -0.1 -0.2 -0.1  0.1 -0.  -0.1  0.  -0.1\n",
      "  0.  -0.1  0.   0.1  0.1 -0.1  0.   0.1  0.   0.1]\n",
      "[-0.  -0.1 -0.1 -0.1 -0.1 -0.1 -0.1  0.2 -0.   0.1 -0.   0.  -0.1  0.2  0.\n",
      " -0.1 -0.1 -0.  -0.1 -0.1 -0.1  0.   0.  -0.  -0.  -0.1 -0.1  0.2 -0.1 -0.1\n",
      " -0.  -0.   0.  -0.1  0.   0.   0.1  0.1  0.  -0.1  0.1  0.2 -0.   0.   0.\n",
      " -0.2  0.1 -0.1  0.1  0.   0.1 -0.  -0.1  0.1  0.  -0.   0.1  0.2  0.   0.1\n",
      "  0.   0.   0.1  0.   0.   0.1 -0.  -0.3 -0.  -0.1  0.1  0.3 -0.   0.2  0.\n",
      "  0.2 -0.1  0.  -0.1  0.  -0.  -0.2 -0.1 -0.1 -0.2  0.1  0.2  0.1 -0.1  0.1\n",
      " -0.1 -0.3  0.  -0.3  0.2  0.1 -0.  -0.1  0.   0. ]\n"
     ]
    }
   ],
   "source": [
    "print(np.mean(ss, axis=0))\n",
    "print(np.round(causal.sba.mean(1)[0],decimals=1))"
   ]
  },
  {
   "cell_type": "code",
   "execution_count": 214,
   "metadata": {},
   "outputs": [
    {
     "data": {
      "text/plain": [
       "0.015800798719678929"
      ]
     },
     "execution_count": 214,
     "metadata": {},
     "output_type": "execute_result"
    }
   ],
   "source": [
    "np.var(causal.sba.mean(1))"
   ]
  },
  {
   "cell_type": "code",
   "execution_count": null,
   "metadata": {},
   "outputs": [],
   "source": []
  }
 ],
 "metadata": {
  "kernelspec": {
   "display_name": "deep (3.6)",
   "language": "python",
   "name": "deep"
  },
  "language_info": {
   "codemirror_mode": {
    "name": "ipython",
    "version": 3
   },
   "file_extension": ".py",
   "mimetype": "text/x-python",
   "name": "python",
   "nbconvert_exporter": "python",
   "pygments_lexer": "ipython3",
   "version": "3.6.9"
  },
  "varInspector": {
   "cols": {
    "lenName": 16,
    "lenType": 16,
    "lenVar": 40
   },
   "kernels_config": {
    "python": {
     "delete_cmd_postfix": "",
     "delete_cmd_prefix": "del ",
     "library": "var_list.py",
     "varRefreshCmd": "print(var_dic_list())"
    },
    "r": {
     "delete_cmd_postfix": ") ",
     "delete_cmd_prefix": "rm(",
     "library": "var_list.r",
     "varRefreshCmd": "cat(var_dic_list()) "
    }
   },
   "types_to_exclude": [
    "module",
    "function",
    "builtin_function_or_method",
    "instance",
    "_Feature"
   ],
   "window_display": false
  }
 },
 "nbformat": 4,
 "nbformat_minor": 2
}
